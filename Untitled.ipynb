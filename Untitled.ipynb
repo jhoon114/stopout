{
 "cells": [
  {
   "cell_type": "code",
   "execution_count": 51,
   "metadata": {},
   "outputs": [
    {
     "ename": "SyntaxError",
     "evalue": "invalid syntax (<ipython-input-51-a1ca7918c3e4>, line 5)",
     "output_type": "error",
     "traceback": [
      "\u001b[0;36m  File \u001b[0;32m\"<ipython-input-51-a1ca7918c3e4>\"\u001b[0;36m, line \u001b[0;32m5\u001b[0m\n\u001b[0;31m    - Stop-out제출용 저장소 하나씩 생성\u001b[0m\n\u001b[0m                    ^\u001b[0m\n\u001b[0;31mSyntaxError\u001b[0m\u001b[0;31m:\u001b[0m invalid syntax\n"
     ]
    }
   ],
   "source": [
    "# Stopout 퀴즈\n",
    "\n",
    "## 제출방법\n",
    "\n",
    "- Stop-out제출용 저장소 하나씩 생성\n",
    "- 파이썬 문제는 하나의 Jupyter Notebook파일에 번호와 답 코드 및 실행결과를 담아 제출\n",
    "- 장고 문제는 해당 저장소의 `app`폴더에 장고 코드가 들어갈 수 있도록 설정\n",
    "\t- clone받을 경우 해당 폴더 내의 `app`폴더에서 `manage.py`를 실행할 수 있는 구조인지 확인\n",
    "- 구글 스프레드시트 문서에 각자 주소를 제출\n",
    "\n",
    "\n",
    "## Django [60점]\n",
    "\n",
    "#### 모델\n",
    "\n",
    "- 학교\n",
    "\t- 학교명\n",
    "- 학생\n",
    "\t- 소속 학교 (MTO)\n",
    "\t- 학생 이름\n",
    "\t- 친한 친구 목록 (MTM)\n",
    "\t\t- 대칭적관계로 구현\n",
    "\n",
    "#### 뷰\n",
    "\n",
    "- 학교 목록\n",
    "\t- 모든 학교 목록을 출력\n",
    "\t- 학교 상세보기로의 링크 구현\n",
    "- 학교 상세보기\n",
    "\t- URL이름으로 `school_id`를 사용, 해당 학교를 출력\n",
    "\t- 속하는 모든 학생 목록을 보여준다\n",
    "\t\t- 학생 상세보기로의 링크 구현\n",
    "- 학생 목록\n",
    "\t- 모든 학생 목록을 출력\n",
    "\t- 각 학생이 다니는 학교도 함께 출력해준다\n",
    "\t- 학생 상세보기로의 링크 구현\n",
    "- 학생 상세보기\n",
    "\t- URL이름으로 `student_id`를 사용, 해당 학생의 정보를 출력\n",
    "\t- 각 학생의 친구 목록을 출력해준다\n",
    "\n",
    "#### 샘플 데이터\n",
    "\n",
    "- 학교 2개 및 학생 구현\n",
    "\t- 서울대\n",
    "\t\t- 박보영\n",
    "\t\t- 민아\n",
    "\t\t- 아이유\n",
    "\t\t- 수지\n",
    "\t- 연세대 (학생 없음)\n",
    "\n",
    "- 박보영의 친한 친구 목록에 아이유와 수지 추가\n",
    "- 아이유의 친한 친구 목록에 민아 추가\n",
    "- 수지의 친한 친구 목록에 아이유 추가"
   ]
  },
  {
   "cell_type": "code",
   "execution_count": 5,
   "metadata": {},
   "outputs": [
    {
     "name": "stdout",
     "output_type": "stream",
     "text": [
      "- 민아\n",
      "- 혜리\n",
      "- 유라\n",
      "- 소진\n"
     ]
    }
   ],
   "source": [
    "\n",
    "### 1. 다음 리스트를 사용해 아래와 같은 문자열을 만들어 `girlsday_info`변수에 할당한 후, 콘솔에 내용을 출력하시오. [5점]\n",
    "\n",
    "'''리스트\n",
    "\n",
    "```python\n",
    "girlsday_members = ['민아', '혜리', '유라', '소진']\n",
    "```\n",
    "\n",
    "결과 문자열\n",
    "\n",
    "```\n",
    "- 민아\n",
    "- 혜리\n",
    "- 유라\n",
    "- 소진\n",
    "'''\n",
    "girlsday_members = ['민아', '혜리', '유라', '소진']\n",
    "for girlsday_info in girlsday_members:\n",
    "    print(f'- {girlsday_info}')\n"
   ]
  },
  {
   "cell_type": "code",
   "execution_count": 8,
   "metadata": {},
   "outputs": [
    {
     "name": "stdout",
     "output_type": "stream",
     "text": [
      "[0] RED: Apple\n",
      "[1] YELLOW: Banana\n",
      "[2] GREEN: Melon\n"
     ]
    }
   ],
   "source": [
    "### 2. `fruit_dict`객체를 사용해서 아래와 같은 결과값을 갖는 문자열을 만들어 `fruit_info`변수에 할당 한 후, 콘솔에 내용을 출력하시오. [10점]\n",
    "'''\n",
    "- index 미출력시: -2\n",
    "- 키의 대문자화 미구현시: -2\n",
    "- 값의 첫 번째 글자 대문자화 미구현시: -2\n",
    "\n",
    "```\n",
    "fruit_dict = {\n",
    "    'red': 'apple',\n",
    "    'yellow': 'banana',\n",
    "    'green': 'melon',\n",
    "}\n",
    "```\n",
    "\n",
    "결과 문자열\n",
    "\n",
    "```\n",
    "[0] RED: Apple\n",
    "[1] YELLOW: Banana\n",
    "[2] GREEN: Melon\n",
    "\n",
    "# 어렵다면 아래 형태를 만든다\n",
    "\n",
    "red: apple\n",
    "yellow: banana\n",
    "green: melon\n",
    "```\n",
    "'''\n",
    "fruit_dict = {\n",
    "    'red': 'apple',\n",
    "    'yellow': 'banana',\n",
    "    'green': 'melon',\n",
    "}\n",
    "\n",
    "for index, fruit_info in enumerate(fruit_dict):\n",
    "    \n",
    "    print(f'[{index}] {fruit_info.upper()}: {fruit_dict[fruit_info].title()}')\n"
   ]
  },
  {
   "cell_type": "code",
   "execution_count": 11,
   "metadata": {},
   "outputs": [
    {
     "name": "stdout",
     "output_type": "stream",
     "text": [
      "[9999, 1, 2] [9999, 1, 2]\n",
      "[0, 1, 2] [9999, 1, 2]\n"
     ]
    }
   ],
   "source": [
    "### 3. list의 `copy()`메서드가 하는 일과, `copy()`를 사용하지 않았을 때 발생할 수 있는 오류에 대한 예제 코드를 작성하시오. [10점]\n",
    "\n",
    "'''copy()를 사용하지 않았을 경우 리스트를 복제해오면 동일한 메모리 주소를 갖기 때문에 다른 변수로 복사한 리스트를 수정하면 원본 데이터가 바뀐다.\n",
    "하지만 copy()를 사용했을 경우 메모리가 다른, 리스트 자체가 다른 값이기 때문에 원본 리스트의 데이터가 바뀌었다고 복사된 리스트의 데이터에 영향을 끼치지는 않는다.'''\n",
    "\n",
    "list1 = [0,1,2]\n",
    "nocopy = list1\n",
    "nocopy[0] = 9999\n",
    "print(list1, nocopy)\n",
    "\n",
    "list2 = [0,1,2]\n",
    "copyon = list2.copy()\n",
    "copyon[0] = 9999\n",
    "print(list2, copyon)"
   ]
  },
  {
   "cell_type": "code",
   "execution_count": 16,
   "metadata": {},
   "outputs": [
    {
     "name": "stdout",
     "output_type": "stream",
     "text": [
      "[3, 7, 11, 15, 19, 23, 27]\n"
     ]
    }
   ],
   "source": [
    "### 4. 1에서 30까지의 숫자 중, 3부터 시작해서 4번째마다의 숫자를 가지는 리스트를 생성하시오. [5점]\n",
    "\n",
    "###- 기본점수: 3점\n",
    "###- `range`를 사용한 경우: +2\n",
    "###3,4,5,6,7,\n",
    "###결과\n",
    "\n",
    "'''\n",
    "[3, 7, 11, 15, 19, 23, 27]\n",
    "```\n",
    "'''\n",
    "number_list = []\n",
    "for number in range(3,31,4):\n",
    "    number_list.append(number)\n",
    "print(number_list)\n"
   ]
  },
  {
   "cell_type": "code",
   "execution_count": 19,
   "metadata": {},
   "outputs": [
    {
     "data": {
      "text/plain": [
       "\"결과값은 같으나 obj['key'] 의 경우 해당 key가 존재하지 않을때 key 오류를 발생시키고\\nobj.get('key') 의 경우 None값을 반환한다\""
      ]
     },
     "execution_count": 19,
     "metadata": {},
     "output_type": "execute_result"
    }
   ],
   "source": [
    "### 5. dict형 객체인 `obj`가 있다고 할 때, `obj['key']`와 `obj.get('key')`의 차이를 서술하시오. [5점]\n",
    "\n",
    "'''결과값은 같으나 obj['key'] 의 경우 해당 key가 존재하지 않을때 key 오류를 발생시키고\n",
    "obj.get('key') 의 경우 None값을 반환한다'''\n"
   ]
  },
  {
   "cell_type": "code",
   "execution_count": 21,
   "metadata": {},
   "outputs": [
    {
     "name": "stdout",
     "output_type": "stream",
     "text": [
      "피카츄 전기 타입\n",
      "파이리 불 타입\n",
      "꼬부기 물 타입\n",
      "이상해씨 풀 타입\n"
     ]
    }
   ],
   "source": [
    "### 6. 튜플 언패킹에 대해 서술하고, `pokemon_info` 객체를 순회할 때 튜플 언패킹을 사용하는 예제 코드를 작성하시오. [10점]\n",
    "\n",
    "''' \n",
    "묶여있는 여러 개의 값들을 여러 변수에 풀어서 저장시키는것\n",
    "'''\n",
    "\n",
    "pokemon_info = [\n",
    "    ('피카츄', '전기 타입'),\n",
    "    ('파이리', '불 타입'),\n",
    "    ('꼬부기', '물 타입'),\n",
    "    ('이상해씨', '풀 타입'),\n",
    "]\n",
    "\n",
    "for x, y in pokemon_info:\n",
    "    # 튜플로 묶여있는 두개의 값을 두개의 변수로 나눠 저장시키고 출력함\n",
    "    print(x,y)"
   ]
  },
  {
   "cell_type": "code",
   "execution_count": 22,
   "metadata": {},
   "outputs": [
    {
     "data": {
      "text/plain": [
       "\" 위치인자는 함수에서 정의한 변수의 순서대로 값을 넘겨주며\\n키워드 인자는 함수에서 정의한 변수명을 직접 입력하여 ex)name='김제훈' 함수에서 정의된 순서에 상관없이 해당 변수에 직접 값을 넘겨주는것입니다.\""
      ]
     },
     "execution_count": 22,
     "metadata": {},
     "output_type": "execute_result"
    }
   ],
   "source": [
    "### 7. 함수에서 위치인자와 키워드인자의 차이점에 대해 서술하시오. [5점]\n",
    "\n",
    "''' 위치인자는 함수에서 정의한 변수의 순서대로 값을 넘겨주며\n",
    "키워드 인자는 함수에서 정의한 변수명을 직접 입력하여 ex)name='김제훈' 함수에서 정의된 순서에 상관없이 해당 변수에 직접 값을 넘겨주는것입니다.'''\n"
   ]
  },
  {
   "cell_type": "code",
   "execution_count": 25,
   "metadata": {},
   "outputs": [
    {
     "data": {
      "text/plain": [
       "'\\n- 클래스와 인스턴스의 차이점 [2점]\\n    클래스에 의해서 만들어진 객체가 인스턴스이며,\\n    인스턴스의 속성은 개별적이나 클래스의 속성은 모든 인스턴스에서 공유되는 점이다.\\n\\n- 클래스의 생성자 함수 이름 [1점]\\n     __init__(self)\\n\\n- 클래스의 생성자 함수가 호출되는 시점은? [2점]\\n    클래스가 호출될때\\n\\n- 인스턴스 메서드의 `self`매개변수의 의미 [4점]\\n     self는 해당 함수를 부르는 객체가 해당 클래스의 인스턴스인지 확인하고\\n     객체에 정보를 저장하거나 불러올 수 있는 변수이다.\\n'"
      ]
     },
     "execution_count": 25,
     "metadata": {},
     "output_type": "execute_result"
    }
   ],
   "source": [
    "### 8. 클래스와 인스턴스의 다음 사항들에 대해 서술하시오.\n",
    "\n",
    "'''\n",
    "- 클래스와 인스턴스의 차이점 [2점]\n",
    "    클래스에 의해서 만들어진 객체가 인스턴스이며,\n",
    "    인스턴스의 속성은 개별적이나 클래스의 속성은 모든 인스턴스에서 공유되는 점이다.\n",
    "\n",
    "- 클래스의 생성자 함수 이름 [1점]\n",
    "     __init__(self)\n",
    "\n",
    "- 클래스의 생성자 함수가 호출되는 시점은? [2점]\n",
    "    클래스가 호출될때\n",
    "\n",
    "- 인스턴스 메서드의 `self`매개변수의 의미 [4점]\n",
    "     self는 해당 함수를 부르는 객체가 해당 클래스의 인스턴스인지 확인하고\n",
    "     객체에 정보를 저장하거나 불러올 수 있는 변수이다.\n",
    "'''"
   ]
  },
  {
   "cell_type": "code",
   "execution_count": 24,
   "metadata": {},
   "outputs": [
    {
     "data": {
      "text/plain": [
       "'\\n- `getter`를 만드는 방법에 대해 서술: 2점\\n\\n  함수를 정의한 바로 윗줄에 @ 데코레이터를 사용하여 속성화 시키고\\n  @function_name.getter 로 데코레이팅한 뒤에\\n  getter 부분과 동작을 하게끔 만들면\\n  속성값을 불러오며 값을 읽고 호출할 수 있다\\n\\n- `setter`를 만드는 방법에 대해 서술: 3점\\n\\n  함수를 정의한 바로 윗줄에 @ 데코레이터를 사용하여 속성화 시키고\\n  @function_name.setter 로 데코레이팅한 뒤에\\n  setter 부분과 동작을 하게끔 만들면\\n  속성값을 변경시킬 수 있다.\\n'"
      ]
     },
     "execution_count": 24,
     "metadata": {},
     "output_type": "execute_result"
    }
   ],
   "source": [
    "### 9. `property`를 정의하는 방법에 대해 서술하시오. [5점]\n",
    "\n",
    "'''\n",
    "- `getter`를 만드는 방법에 대해 서술: 2점\n",
    "\n",
    "  함수를 정의한 바로 윗줄에 @ 데코레이터를 사용하여 속성화 시키고\n",
    "  @function_name.getter 로 데코레이팅한 뒤에\n",
    "  getter 부분과 동작을 하게끔 만들면\n",
    "  속성값을 불러오며 값을 읽고 호출할 수 있다\n",
    "\n",
    "- `setter`를 만드는 방법에 대해 서술: 3점\n",
    "\n",
    "  함수를 정의한 바로 윗줄에 @ 데코레이터를 사용하여 속성화 시키고\n",
    "  @function_name.setter 로 데코레이팅한 뒤에\n",
    "  setter 부분과 동작을 하게끔 만들면\n",
    "  속성값을 변경시킬 수 있다.\n",
    "'''"
   ]
  },
  {
   "cell_type": "code",
   "execution_count": 6,
   "metadata": {},
   "outputs": [],
   "source": [
    "### 10. 아래와 같은 `User`클래스가 있다. 이 클래스를 상속받은 `Student`클래스를 정의하고, \n",
    "### 초기화 메서드에서 `name`과 함께`age`라는 매개변수를 추가로 사용해 인스턴스의 `age`속성을 추가로 정의하도록 한다. [10점]\n",
    "'''\n",
    "- (기본구현) User클래스를 상속: 1\n",
    "- 초기화 메서드 재정의: +3\n",
    "- 초기화 메서드에서 `super`사용: +6\n",
    "'''\n",
    "\n",
    "class User:\n",
    "    def __init__(self, name):\n",
    "        self.name = name\n",
    "\n",
    "class Student(User):\n",
    "    def __init__(self, name, age):\n",
    "        super().__init__(name)\n",
    "        self.age = age"
   ]
  },
  {
   "cell_type": "code",
   "execution_count": 32,
   "metadata": {},
   "outputs": [
    {
     "name": "stdout",
     "output_type": "stream",
     "text": [
      "승리를 쟁취하라\n",
      "10월 14일(일) 금융기관별 결제 서비스 점검 안내\n",
      "대리 게임 등 적발 현황 281차 안내\n",
      "부정행위 프로그램 제재 현황 안내\n",
      "인생챔프 : 큐베 - 나르편\n",
      "임무 기능 장애 현상 안내 (정상화)\n",
      "LCK팀의 Worlds가 오늘 시작됩니다!\n",
      "임무 기능 장애 현상 안내 (정상화)\n",
      "2018 월드 챔피언십 그룹 스테이지 현장 라이엇 스토어 운영 안내\n",
      "10월 10일(수) 서버 점검 및 업데이트 안내 (완료)\n"
     ]
    }
   ],
   "source": [
    "### 11. `url`주소로부터 아래 결과를 출력한다. [10점]\n",
    "'''\n",
    "> 공지사항이 추가되면 결과는 달라질 수 있으므로, 실제 게시판의 목록이 출력되는지 확인\n",
    "> \n",
    "> top이라는 텍스트는 포함되어도 무관\n",
    "\n",
    "```\n",
    "url = 'http://www.leagueoflegends.co.kr/?m=news&cate=notice'\n",
    "```\n",
    "\n",
    "결과 출력\n",
    "\n",
    "```\n",
    "top[#2] 격전을 준비하세요! (수정)\n",
    "top격전 참여시 불건전 행위에 대한 주의사항 안내(수정)\n",
    "6월 6일(수) 서버 점검 안내\n",
    "PBE 인사이드 20화(8.12 패치 편) 방송 안내\n",
    "다시 돌아온 격전! 얼불져스 6/5(화) 방송 일정 안내\n",
    "1일 격전 테스트에 참여해 주세요\n",
    "대리 게임 등 적발 현황 262차 안내\n",
    "부정행위 프로그램 제재 현황 안내\n",
    "MadLife와 함께하는 입롤의 신 - 파이크편\n",
    "무작위 총력전 샤코 챔피언 비활성화 안내 (정상화)\n",
    "얼불져스 성적 예측 이벤트 당첨자 안내\n",
    "수수께끼 피규어(시리즈 2) 할인 판매!\n",
    "```\n",
    "'''\n",
    "\n",
    "import re\n",
    "import requests\n",
    "from bs4 import BeautifulSoup\n",
    "\n",
    "url = 'http://www.leagueoflegends.co.kr/?m=news&cate=notice'\n",
    "response = requests.get(url)\n",
    "\n",
    "html = response.text\n",
    "\n",
    "soup = BeautifulSoup(html, \"html.parser\")\n",
    "div_class = soup.select_one('div.contents-table')\n",
    "td_class = soup.select('td.tleft')\n",
    "\n",
    "for i in td_class:\n",
    "    print(i.text)"
   ]
  },
  {
   "cell_type": "code",
   "execution_count": 66,
   "metadata": {},
   "outputs": [
    {
     "name": "stdout",
     "output_type": "stream",
     "text": [
      "\n",
      "승리를 쟁취하라\n",
      "2018-10-14\n",
      "5,313\n",
      "\n",
      "10월 14일(일) 금융기관별 결제 서비스 점검 안내\n",
      "2018-10-12\n",
      "1,279\n",
      "\n",
      "대리 게임 등 적발 현황 281차 안내\n",
      "2018-10-12\n",
      "2,201\n",
      "\n",
      "부정행위 프로그램 제재 현황 안내\n",
      "2018-10-12\n",
      "933\n",
      "\n",
      "인생챔프 : 큐베 - 나르편\n",
      "2018-10-11\n",
      "1,534\n",
      "\n",
      "임무 기능 장애 현상 안내 (정상화)\n",
      "2018-10-10\n",
      "2,480\n",
      "\n",
      "LCK팀의 Worlds가 오늘 시작됩니다!\n",
      "2018-10-10\n",
      "2,809\n",
      "\n",
      "임무 기능 장애 현상 안내 (정상화)\n",
      "2018-10-09\n",
      "9,655\n",
      "\n",
      "2018 월드 챔피언십 그룹 스테이지 현장 라이엇 스토어 운영 안내\n",
      "2018-10-09\n",
      "3,456\n",
      "\n",
      "10월 10일(수) 서버 점검 및 업데이트 안내 (완료)\n",
      "2018-10-09\n",
      "12,270\n"
     ]
    }
   ],
   "source": [
    "### 12. `url`주소에 있는 공지사항에 해당하는 `Notice`클래스를 만들고,\n",
    "###    크롤링시 공지사항 하나마다 `Notice`클래스 인스턴스를 만들어 `notice_list`리스트에 추가한다. [10점]\n",
    "'''\n",
    "`notice_list`를 출력한 결과\n",
    "\n",
    "```\n",
    "for notice in notice_list:\n",
    "\tprint(notice.title)\n",
    "\tprint(notice.date)\n",
    "\tprint(notice.view)\n",
    "\tprint()\n",
    "```\n",
    "\n",
    "결과\n",
    "\n",
    "```\n",
    "top[#2] 격전을 준비하세요! (수정)\n",
    "2018-05-18\n",
    "17,698\n",
    "\n",
    "top격전 참여시 불건전 행위에 대한 주의사항 안내(수정)\n",
    "2018-04-26\n",
    "34,097\n",
    "\n",
    "일부 클라이언트 오류 현상에 대한 안내\n",
    "2018-06-06\n",
    "4,928\n",
    "\n",
    "6월 6일(수) 서버 점검 안내 (완료)\n",
    "2018-06-05\n",
    "38,061\n",
    "\n",
    "PBE 인사이드 20화(8.12 패치 편) 방송 안내\n",
    "2018-06-04\n",
    "7,819\n",
    "\n",
    "다시 돌아온 격전! 얼불져스 6/5(화) 방송 일정 안내\n",
    "2018-06-03\n",
    "13,906\n",
    "...\n",
    "...\n",
    "...\n",
    "```\n",
    "'''\n",
    "import re\n",
    "import requests\n",
    "from bs4 import BeautifulSoup\n",
    "\n",
    "url = 'http://www.leagueoflegends.co.kr/?m=news&cate=notice'\n",
    "response = requests.get(url)\n",
    "\n",
    "html = response.text\n",
    "\n",
    "soup = BeautifulSoup(html, \"html.parser\")\n",
    "div_class = soup.select_one('div.contents-table')\n",
    "td_class = soup.select('td.tleft')\n",
    "find_tr = div_class.select('tr > td')\n",
    "\n",
    "class Notice():\n",
    "    def __init__(self, title, date, view):\n",
    "        self.title = title\n",
    "        self.date = date\n",
    "        self.view = view\n",
    "\n",
    "# print(find_tr[0:3])\n",
    "# notice_list = []\n",
    "\n",
    "#     print(title.text)\n",
    "# print(a.text)\n",
    "# print(b.text)\n",
    "# print(c.text)\n",
    "\n",
    "# count = 0\n",
    "# notice_number = 0\n",
    "# a,b,c = find_tr[0:3]\n",
    "\n",
    "# notice = Notice(a.text, b.text, c.text)\n",
    "# print(notice.title)\n",
    "# print(notice.date)\n",
    "# print(notice.view)\n",
    "\n",
    "# for index, x in enumerate(find_tr):\n",
    "#     if index%3 == 0:\n",
    "#         notice_number += 1\n",
    "#     else:\n",
    "\n",
    "# print(find_tr)\n",
    "\n",
    "for i, notice in enumerate(find_tr):\n",
    "    if i%3 == 0:\n",
    "        print()\n",
    "    print(notice.text)"
   ]
  },
  {
   "cell_type": "code",
   "execution_count": null,
   "metadata": {},
   "outputs": [],
   "source": []
  },
  {
   "cell_type": "code",
   "execution_count": null,
   "metadata": {},
   "outputs": [],
   "source": [
    "### 13. runserver가 `localhost:8000`에서 입력을 받는 상태로 동작 중일 때, \n",
    "###    브라우저에서 `http://localhost:8000/abc/` 라는 URL을 입력하면 어떤 절차를 거쳐 사용자에게 다시 화면을 보여주는지 서술하시오. [10점]\n",
    "\n",
    "'''\n",
    "http://localhost:8000/abc/ 접속시 url.py 에 해당 url로 접속시 연결시켜주는 설정이 있는지 확인하며 url.py 에 정의된 대로 views.py 에서 해당 페이지를 출력해준다.\n",
    "'''"
   ]
  }
 ],
 "metadata": {
  "kernelspec": {
   "display_name": "Python 3",
   "language": "python",
   "name": "python3"
  },
  "language_info": {
   "codemirror_mode": {
    "name": "ipython",
    "version": 3
   },
   "file_extension": ".py",
   "mimetype": "text/x-python",
   "name": "python",
   "nbconvert_exporter": "python",
   "pygments_lexer": "ipython3",
   "version": "3.6.6"
  }
 },
 "nbformat": 4,
 "nbformat_minor": 2
}
